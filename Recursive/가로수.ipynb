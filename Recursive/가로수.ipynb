{
 "cells": [
  {
   "cell_type": "code",
   "execution_count": 9,
   "id": "combined-lounge",
   "metadata": {},
   "outputs": [
    {
     "name": "stdout",
     "output_type": "stream",
     "text": [
      "문제 설명의 입력 예시를 모두 복사한 후, 한번에 붙여넣어 주세요\n",
      "4\n",
      "1\n",
      "3\n",
      "7\n",
      "13\n",
      "같은 간격이 되도록 새로 심어야 하는 가로수의 최소 수는 3개 입니다.\n"
     ]
    }
   ],
   "source": [
    "def howManyTree(n, myInput) :\n",
    "    '''\n",
    "    모든 가로수가 같은 간격이 되도록 새로 심어야 하는 가로수의 최소수를 리턴하는 함수를 구현하세요.\n",
    "    '''\n",
    "    \n",
    "    min_len = 100000000\n",
    "    max_len = 0\n",
    "    \n",
    "    myInput.sort()\n",
    "    \n",
    "\n",
    "    \n",
    "        \n",
    "    def ham(x, y):\n",
    "        if x % y == 0:\n",
    "            return y\n",
    "        \n",
    "        return ham(y, x % y)\n",
    "        \n",
    "    num = myInput[1] - myInput[0]\n",
    "    \n",
    "    for i in range(1,len(myInput)-1):\n",
    "        \n",
    "        num = ham(num,myInput[i+1] - myInput[i])\n",
    "    \n",
    "  \n",
    "    \n",
    "    \n",
    "    cnt = (myInput[n-1] - myInput[0])/num + 1 - n\n",
    "    \n",
    "    return int(cnt)\n",
    "\n",
    "def main():\n",
    "    '''\n",
    "    이 부분은 수정하지 마세요.\n",
    "    '''\n",
    "    print(\"문제 설명의 입력 예시를 모두 복사한 후, 한번에 붙여넣어 주세요\")\n",
    "    n = int(input())\n",
    "    myInput = []\n",
    "    for _ in range(n) :\n",
    "        myInput.append(int(input()))\n",
    "\n",
    "    print(\"같은 간격이 되도록 새로 심어야 하는 가로수의 최소 수는 {}개 입니다.\".format(howManyTree(n, myInput)))\n",
    "if __name__ == \"__main__\":\n",
    "    main()"
   ]
  },
  {
   "cell_type": "code",
   "execution_count": null,
   "id": "yellow-sunday",
   "metadata": {},
   "outputs": [],
   "source": []
  }
 ],
 "metadata": {
  "kernelspec": {
   "display_name": "Python 3.9.2 64-bit",
   "language": "python",
   "name": "python392jvsc74a57bd0aee8b7b246df8f9039afb4144a1f6fd8d2ca17a180786b69acc140d282b71a49"
  },
  "language_info": {
   "codemirror_mode": {
    "name": "ipython",
    "version": 3
   },
   "file_extension": ".py",
   "mimetype": "text/x-python",
   "name": "python",
   "nbconvert_exporter": "python",
   "pygments_lexer": "ipython3",
   "version": "3.9.2"
  }
 },
 "nbformat": 4,
 "nbformat_minor": 5
}
