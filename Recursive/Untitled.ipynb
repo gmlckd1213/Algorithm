{
 "cells": [
  {
   "cell_type": "code",
   "execution_count": 1,
   "id": "chronic-exploration",
   "metadata": {},
   "outputs": [
    {
     "name": "stdout",
     "output_type": "stream",
     "text": [
      "10 3\n",
      "1 9 8 5 2 3 5 6 2 10\n",
      "-1 -1 9 8 5 3 3 3 2 2\n"
     ]
    }
   ],
   "source": [
    "def findK(n, k):\n",
    "    result = []\n",
    "    data = []\n",
    "    for element in n:\n",
    "        data.append(element)\n",
    "        data.sort()\n",
    "        if len(data) < k:\n",
    "            result.append(-1)\n",
    "        else:\n",
    "            result.append(data[k-1])\n",
    "    return result\n",
    "\n",
    "def main():\n",
    "    t = [int(v) for v in input().split()]\n",
    "    arr = [int(i) for i in input().split()]\n",
    "    print(*findK(arr,t[1]))\n",
    "    \n",
    "    \n",
    "if __name__ == \"__main__\":\n",
    "    main()"
   ]
  },
  {
   "cell_type": "code",
   "execution_count": null,
   "id": "taken-relay",
   "metadata": {},
   "outputs": [],
   "source": []
  }
 ],
 "metadata": {
  "kernelspec": {
   "display_name": "Python 3",
   "language": "python",
   "name": "python3"
  },
  "language_info": {
   "codemirror_mode": {
    "name": "ipython",
    "version": 3
   },
   "file_extension": ".py",
   "mimetype": "text/x-python",
   "name": "python",
   "nbconvert_exporter": "python",
   "pygments_lexer": "ipython3",
   "version": "3.9.2"
  }
 },
 "nbformat": 4,
 "nbformat_minor": 5
}
