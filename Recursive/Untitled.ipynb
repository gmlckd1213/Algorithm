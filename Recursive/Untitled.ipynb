{
 "cells": [
  {
   "cell_type": "code",
   "execution_count": 1,
   "id": "prompt-failure",
   "metadata": {},
   "outputs": [
    {
     "name": "stdout",
     "output_type": "stream",
     "text": [
      "정렬할 수를 입력하세요 (예시:10 2 3 4 5 6 9 7 8 1): 10 2 3 4 5 6 9 7 8 1\n",
      "정렬 결과: 1 2 3 4 5 6 7 8 9 10\n"
     ]
    }
   ],
   "source": [
    "def quickSort(array):\n",
    "\n",
    "    \n",
    "    if len(array) <= 1:\n",
    "        return array \n",
    "    left, mid, right = [], [], []\n",
    "    pivot = array[len(array)//2]\n",
    "    for i in  array:\n",
    "        if i < pivot:\n",
    "            left.append(i)\n",
    "        elif i>pivot:\n",
    "            right.append(i)\n",
    "        else:\n",
    "            mid.append(i)\n",
    "    return quickSort(left)+mid+quickSort(right)\n",
    "\n",
    "def main():\n",
    "    line = [int(x) for x in input(\"정렬할 수를 입력하세요 (예시:10 2 3 4 5 6 9 7 8 1): \").split()]\n",
    "\n",
    "    print('정렬 결과:', *quickSort(line))\n",
    "\n",
    "if __name__ == \"__main__\":\n",
    "    main()\n",
    "\n",
    "\n"
   ]
  },
  {
   "cell_type": "code",
   "execution_count": null,
   "id": "scheduled-attachment",
   "metadata": {},
   "outputs": [],
   "source": []
  }
 ],
 "metadata": {
  "kernelspec": {
   "display_name": "Python 3",
   "language": "python",
   "name": "python3"
  },
  "language_info": {
   "codemirror_mode": {
    "name": "ipython",
    "version": 3
   },
   "file_extension": ".py",
   "mimetype": "text/x-python",
   "name": "python",
   "nbconvert_exporter": "python",
   "pygments_lexer": "ipython3",
   "version": "3.9.2"
  }
 },
 "nbformat": 4,
 "nbformat_minor": 5
}
