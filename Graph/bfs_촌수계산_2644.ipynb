{
 "cells": [
  {
   "cell_type": "code",
   "execution_count": 20,
   "id": "65097caf",
   "metadata": {},
   "outputs": [
    {
     "name": "stdout",
     "output_type": "stream",
     "text": [
      "9\n",
      "7 3\n",
      "7\n",
      "1 2\n",
      "1 3\n",
      "2 7\n",
      "2 8\n",
      "2 9\n",
      "4 5\n",
      "4 6\n"
     ]
    }
   ],
   "source": [
    "n = int(input())\n",
    "x,y = map(int, input().split())\n",
    "m = int(input())\n",
    "graph = [[] for _ in range(n+1)]\n",
    "result = [0]*(n+1)\n",
    "for i in range(m):\n",
    "    a,b = map(int,input().split())\n",
    "    graph[a].append(b)\n",
    "    graph[b].append(a)\n"
   ]
  },
  {
   "cell_type": "markdown",
   "id": "800e06fa",
   "metadata": {},
   "source": [
    "### graph"
   ]
  },
  {
   "cell_type": "code",
   "execution_count": 21,
   "id": "08eeec09",
   "metadata": {},
   "outputs": [],
   "source": [
    "from collections import deque\n",
    "def bfs(start):\n",
    "    q = deque()\n",
    "    q.append(start)\n",
    "    visit = [0 for i in range(n+1)]\n",
    "    visit[start] = 1\n",
    "    while q:\n",
    "        d = q.popleft()\n",
    "        for i in graph[d]:\n",
    "            if visit[i] == 0:\n",
    "                visit[i] = 1\n",
    "                result[i] = result[d] + 1\n",
    "                q.append(i)\n"
   ]
  },
  {
   "cell_type": "code",
   "execution_count": 22,
   "id": "3bd6cb33",
   "metadata": {},
   "outputs": [
    {
     "name": "stdout",
     "output_type": "stream",
     "text": [
      "3\n"
     ]
    }
   ],
   "source": [
    "bfs(y)\n",
    "print(result[x] if result[x] != 0 else -1)"
   ]
  },
  {
   "cell_type": "code",
   "execution_count": 14,
   "id": "daa7f8d2",
   "metadata": {},
   "outputs": [
    {
     "name": "stdout",
     "output_type": "stream",
     "text": [
      "9\n",
      "7 3\n",
      "7\n",
      "1 2\n",
      "1 3\n",
      "2 7\n",
      "2 8\n",
      "2 9\n",
      "4 5\n",
      "4 6\n",
      "3\n"
     ]
    }
   ],
   "source": [
    "from collections import deque\n",
    "\n",
    "n = int(input())\n",
    "blood1, blood2 = map(int, input().split())\n",
    "m = int(input())\n",
    "\n",
    "graph = [[] for _ in range(n + 1)]\n",
    "answer = [0 for _ in range(n + 1)]\n",
    "\n",
    "for i in range(m):\n",
    "    x, y = map(int, input().split())\n",
    "    graph[x].append(y)\n",
    "    graph[y].append(x)\n",
    "\n",
    "def bfs(start):\n",
    "    queue = deque()\n",
    "    queue.append(start)\n",
    "    visited = [ 0 for i in range(n + 1)]\n",
    "    visited[start] = 1\n",
    "    while queue:\n",
    "        d = queue.popleft()\n",
    "        for i in graph[d]:\n",
    "            if visited[i] == 0:\n",
    "                visited[i] = 1\n",
    "                answer[i] = answer[d] + 1\n",
    "                queue.append(i)\n",
    "\n",
    "bfs(blood1)\n",
    "print(answer[blood2] if answer[blood2] != 0 else -1)\n"
   ]
  },
  {
   "cell_type": "code",
   "execution_count": 15,
   "id": "31f3b5de",
   "metadata": {},
   "outputs": [],
   "source": [
    "answer = [0 for _ in range(n + 1)]"
   ]
  },
  {
   "cell_type": "code",
   "execution_count": 16,
   "id": "3b8bdbab",
   "metadata": {},
   "outputs": [
    {
     "data": {
      "text/plain": [
       "[0, 0, 0, 0, 0, 0, 0, 0, 0, 0]"
      ]
     },
     "execution_count": 16,
     "metadata": {},
     "output_type": "execute_result"
    }
   ],
   "source": [
    "answer"
   ]
  },
  {
   "cell_type": "code",
   "execution_count": 17,
   "id": "c276e9db",
   "metadata": {},
   "outputs": [],
   "source": [
    "b = [0]*(n+1)"
   ]
  },
  {
   "cell_type": "code",
   "execution_count": 18,
   "id": "d3ab1217",
   "metadata": {},
   "outputs": [
    {
     "data": {
      "text/plain": [
       "[0, 0, 0, 0, 0, 0, 0, 0, 0, 0]"
      ]
     },
     "execution_count": 18,
     "metadata": {},
     "output_type": "execute_result"
    }
   ],
   "source": [
    "b"
   ]
  },
  {
   "cell_type": "code",
   "execution_count": null,
   "id": "a3beef39",
   "metadata": {},
   "outputs": [],
   "source": []
  }
 ],
 "metadata": {
  "kernelspec": {
   "display_name": "Python 3.9.2 64-bit",
   "language": "python",
   "name": "python392jvsc74a57bd0aee8b7b246df8f9039afb4144a1f6fd8d2ca17a180786b69acc140d282b71a49"
  },
  "language_info": {
   "codemirror_mode": {
    "name": "ipython",
    "version": 3
   },
   "file_extension": ".py",
   "mimetype": "text/x-python",
   "name": "python",
   "nbconvert_exporter": "python",
   "pygments_lexer": "ipython3",
   "version": "3.9.2"
  }
 },
 "nbformat": 4,
 "nbformat_minor": 5
}
