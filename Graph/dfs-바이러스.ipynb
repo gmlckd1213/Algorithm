{
 "cells": [
  {
   "cell_type": "code",
   "execution_count": 31,
   "id": "a8bfc037",
   "metadata": {},
   "outputs": [
    {
     "name": "stdout",
     "output_type": "stream",
     "text": [
      "7\n",
      "6\n",
      "1 2\n",
      "2 3\n",
      "1 5\n",
      "5 2\n",
      "5 6\n",
      "4 7\n"
     ]
    }
   ],
   "source": [
    "n = int(input())\n",
    "m = int(input())\n",
    "\n",
    "matrix = [[0]*(n+1) for i in range(n+1)]\n",
    "visited = [0]*(n+1)\n",
    "\n",
    "for _ in range(m):\n",
    "    a,b = map(int, input().split())\n",
    "    matrix[a][b]= matrix[b][a] = 1\n",
    "result = []\n",
    "def dfs(v):\n",
    "    visited[v] = 1\n",
    "    for i in range(1, n+1):\n",
    "        if matrix[v][i] == 1 and visited[i] == 0:\n",
    "            result.append(i)\n",
    "            dfs(i)\n",
    "    return len(result)\n",
    "\n",
    "print(dfs(1))"
   ]
  },
  {
   "cell_type": "code",
   "execution_count": null,
   "id": "08febb11",
   "metadata": {},
   "outputs": [],
   "source": [
    "n = int(input())\n",
    "m = int(input())\n",
    "matrix = [[0]*(n+1) for _ in range(n+1)]\n",
    "visited = [0]*(n+1)\n",
    "\n",
    "for _ in range(m):\n",
    "    a,b = map(int,input().split())\n",
    "    matrix[a][b] = matrix[b][a] = 1\n",
    "result = []\n",
    "\n",
    "def dfs(v):\n",
    "    visited[v] =1\n",
    "    for i in range(1,n+1):\n",
    "        if matrix[v][i] == 1 and visited == 0:\n",
    "            dfs(i)\n",
    "            result.append(i)\n",
    "    return len(result)\n",
    "print(dfs(1))"
   ]
  }
 ],
 "metadata": {
  "kernelspec": {
   "display_name": "Python 3.9.2 64-bit",
   "language": "python",
   "name": "python392jvsc74a57bd0aee8b7b246df8f9039afb4144a1f6fd8d2ca17a180786b69acc140d282b71a49"
  },
  "language_info": {
   "codemirror_mode": {
    "name": "ipython",
    "version": 3
   },
   "file_extension": ".py",
   "mimetype": "text/x-python",
   "name": "python",
   "nbconvert_exporter": "python",
   "pygments_lexer": "ipython3",
   "version": "3.9.2"
  }
 },
 "nbformat": 4,
 "nbformat_minor": 5
}
