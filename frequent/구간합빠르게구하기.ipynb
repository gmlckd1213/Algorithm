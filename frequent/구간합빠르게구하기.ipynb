{
 "cells": [
  {
   "cell_type": "markdown",
   "id": "ef29e21b",
   "metadata": {},
   "source": [
    "구간 합 빠르게 구하기"
   ]
  },
  {
   "cell_type": "code",
   "execution_count": 1,
   "id": "d1675465",
   "metadata": {},
   "outputs": [
    {
     "name": "stdout",
     "output_type": "stream",
     "text": [
      "5\n",
      "10 20 30 40 50\n",
      "3 4\n",
      "70\n"
     ]
    }
   ],
   "source": [
    "def fast_sum(arr,n,left,right):\n",
    "    sum_value = 0\n",
    "    prefix = [0]\n",
    "    for i in arr:\n",
    "        sum_value += i\n",
    "        prefix.append(sum_value)\n",
    "    print(prefix[right]-prefix[left-1])\n",
    "def main():\n",
    "    n = int(input())\n",
    "    arr = list(map(int, input().split()))\n",
    "    left, right = map(int, input().split())\n",
    "    fast_sum(arr,n,left,right)\n",
    "    \n",
    "if __name__==\"__main__\":\n",
    "    main()"
   ]
  },
  {
   "cell_type": "code",
   "execution_count": null,
   "id": "19a94f1e",
   "metadata": {},
   "outputs": [],
   "source": []
  }
 ],
 "metadata": {
  "kernelspec": {
   "display_name": "Python 3.9.2 64-bit",
   "language": "python",
   "name": "python392jvsc74a57bd0aee8b7b246df8f9039afb4144a1f6fd8d2ca17a180786b69acc140d282b71a49"
  },
  "language_info": {
   "codemirror_mode": {
    "name": "ipython",
    "version": 3
   },
   "file_extension": ".py",
   "mimetype": "text/x-python",
   "name": "python",
   "nbconvert_exporter": "python",
   "pygments_lexer": "ipython3",
   "version": "3.9.2"
  }
 },
 "nbformat": 4,
 "nbformat_minor": 5
}
