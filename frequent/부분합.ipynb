{
 "cells": [
  {
   "cell_type": "markdown",
   "id": "neural-entertainment",
   "metadata": {},
   "source": [
    "부분 합 구하기"
   ]
  },
  {
   "cell_type": "code",
   "execution_count": 1,
   "id": "banner-pearl",
   "metadata": {},
   "outputs": [
    {
     "name": "stdout",
     "output_type": "stream",
     "text": [
      "5\n",
      "5\n",
      "1 2 3 2 5\n",
      "3\n"
     ]
    }
   ],
   "source": [
    "def sub_sum(data,n,m):\n",
    "    count = 0\n",
    "    interval_sum = 0\n",
    "    end = 0\n",
    "    for start in range(n):\n",
    "        while interval_sum < m and end < n:\n",
    "            interval_sum += data[end]\n",
    "            end+=1\n",
    "        if interval_sum == m:\n",
    "            count+=1\n",
    "        interval_sum -= data[start]\n",
    "    print(count)\n",
    "    \n",
    "    \n",
    "def main():\n",
    "    n = int(input())\n",
    "    m = int(input())\n",
    "    data = list(map(int,input().split()))\n",
    "    sub_sum(data,n,m)\n",
    "    \n",
    "if __name__ == \"__main__\":\n",
    "    main()"
   ]
  },
  {
   "cell_type": "code",
   "execution_count": null,
   "id": "catholic-paintball",
   "metadata": {},
   "outputs": [],
   "source": []
  }
 ],
 "metadata": {
  "kernelspec": {
   "display_name": "Python 3",
   "language": "python",
   "name": "python3"
  },
  "language_info": {
   "codemirror_mode": {
    "name": "ipython",
    "version": 3
   },
   "file_extension": ".py",
   "mimetype": "text/x-python",
   "name": "python",
   "nbconvert_exporter": "python",
   "pygments_lexer": "ipython3",
   "version": "3.9.2"
  }
 },
 "nbformat": 4,
 "nbformat_minor": 5
}
